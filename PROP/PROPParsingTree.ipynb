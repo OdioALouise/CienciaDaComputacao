{
 "cells": [
  {
   "cell_type": "markdown",
   "metadata": {},
   "source": [
    "# Arvores sintáticas (parsing trees)"
   ]
  },
  {
   "cell_type": "markdown",
   "metadata": {},
   "source": [
    "Alfabeto da linguagem da lógica proposicional.\n",
    "\n",
    "(1) símbolos proposicionais: $p_0, p_1, p_2, \\ldots$\n",
    "\n",
    "(2) conetivas binarias: $\\land, \\lor, \\rightarrow, \\leftrightarrow$, conetivas unarias $\\neg, \\bot$\n",
    "\n",
    "(3) símbolos auxiliares: $(,)$\n",
    "\n",
    "A linguagem PROP das proposições lógicas é o menor conjunto X com as seguintes propriedades.\n",
    "\n",
    "(1) $p_i \\in X (i \\in \\mathcal{N}), \\bot \\in X$\n",
    "\n",
    "(2) $\\phi, \\psi \\in X \\implies (\\phi \\land \\psi), (\\phi \\lor \\psi), (\\phi \\rightarrow \\psi), (\\phi \\leftrightarrow \\psi) \\in X$\n",
    "\n",
    "(3) $\\phi \\in X \\implies (\\neg \\phi) \\in X$\n"
   ]
  },
  {
   "cell_type": "markdown",
   "metadata": {},
   "source": [
    "Exemplos\n",
    "\n",
    "(1) $p_0$\n",
    "\n",
    "(2) $(p_0 \\rightarrow p_1)$\n",
    "\n",
    "(3) $((p_1 \\lor p_0) \\land \\bot)$\n",
    "\n",
    "(4) $\\bot)$"
   ]
  },
  {
   "cell_type": "code",
   "execution_count": 1,
   "metadata": {},
   "outputs": [],
   "source": [
    "import re;\n",
    "import numpy as  np;\n",
    "import pandas as pd;"
   ]
  },
  {
   "cell_type": "code",
   "execution_count": 2,
   "metadata": {},
   "outputs": [],
   "source": [
    "binConnectives = u'↔|→|∨|∧';\n",
    "unConnective   = u'¬';\n",
    "atom            = u'p\\d+';\n",
    "falsum          = u'⊥';"
   ]
  },
  {
   "cell_type": "code",
   "execution_count": 3,
   "metadata": {},
   "outputs": [],
   "source": [
    "d = {\n",
    " 'PROPS' : [\n",
    "    u'Hello world!',\n",
    "    u'p0 is an atom.',\n",
    "    u'p0p5p9p9p12',\n",
    "    u'((((p0↔(¬p13))))))',\n",
    "    u'(⊥)',\n",
    "    u'(p0)',\n",
    "    u'(p0↔⊥)',\n",
    "    u'(p0↔⊥)∨(p0↔⊥)',\n",
    "    u'((p0↔⊥)∨(p0↔⊥))',\n",
    "    u'p0',\n",
    "    u'(¬p0)',\n",
    "    u'(p0↔p40)',\n",
    "    u'(¬(p0↔p40))',\n",
    "    u'((¬(p0↔p40))∨(p1100∧⊥))',\n",
    "    u'⊥⊥',\n",
    "    u'((((p0→p1)→p2)→p0)→p15)',\n",
    "    u'(¬(¬(¬((((p0→p1)→p2)→p0)→p15))))',\n",
    "    u'((¬(¬(¬((((p0→p1)→p2)→p0)→p15))))∧(¬(¬(¬((((p0→p1)→p2)→p0)→p15)))))',\n",
    "    u'(((¬(¬(¬((((p0→p1)→p2)→p0)→p15))))∧(¬(¬(¬((((p0→p1)→p2)→p0)→p15)))))↔⊥)',\n",
    "    u'((((¬(¬(¬((((p0→p1)→p2)→p0)→p15))))∧(¬(¬(¬((((p0→p1)→p2)→p0)→p15)))))↔⊥)→(((¬(¬(¬((((p0→p1)→p2)→p0)→p15))))∧(¬(¬(¬((((p0→p1)→p2)→p0)→p15)))))↔⊥))',\n",
    "    u'(((((¬(¬(¬((((p0→p1)→p2)→p0)→p15))))∧(¬(¬(¬((((p0→p1)→p2)→p0)→p15)))))↔⊥)→(((¬(¬(¬((((p0→p1)→p2)→p0)→p15))))∧(¬(¬(¬((((p0→p1)→p2)→p0)→p15)))))↔⊥))∨((((¬(¬(¬((((p0→p1)→p2)→p0)→p15))))∧(¬(¬(¬((((p0→p1)→p2)→p0)→p15)))))↔⊥)→(((¬(¬(¬((((p0→p1)→p2)→p0)→p15))))∧(¬(¬(¬((((p0→p1)→p2)→p0)→p15)))))↔⊥)))',\n",
    "u'((((¬(¬(¬((((p0→p1)→p2)→p0)→p15))))∧(¬(¬(¬((((p0→p1)→p2)→p0)→p15)))))↔⊥)→(((¬(¬(¬((((p0→p1)→p2)→p0)→p15))))∧(¬(¬(¬((((p0→p1)→p2)→p0)→p15)))))↔⊥))∨((((¬(¬(¬((((p0→p1)→p2)→p0)→p15))))∧(¬(¬(¬((((p0→p1)→p2)→p0)→p15)))))↔⊥)→(((¬(¬(¬((((p0→p1)→p2)→p0)→p15))))∧(¬(¬(¬((((p0→p1)→p2)→p0)→p15)))))↔⊥)))',\n",
    "    u'(((p0→p1)∧(p2→p3))∨(¬p1∧¬p2))',\n",
    "    u'(((p0→p1)∧(p1→p2)∨(¬p0∧¬p1))',\n",
    "    u'((p0→p1)→(p1p1))p0))',\n",
    "    u'(((p0→p1)∧(p2→p3))∨((¬p1)∧(¬p2)))',\n",
    "  ],\n",
    "  'goldTag' : [\n",
    "    False,\n",
    "    False,\n",
    "    False,\n",
    "    False,\n",
    "    False,\n",
    "    False,\n",
    "    True,\n",
    "    False,\n",
    "    True,\n",
    "    True,\n",
    "    True,\n",
    "    True,\n",
    "    True,\n",
    "    True,\n",
    "    False,\n",
    "    True,\n",
    "    True,\n",
    "    True,\n",
    "    True,\n",
    "    True,\n",
    "    True,\n",
    "    False,\n",
    "    False,\n",
    "    False,\n",
    "    False,\n",
    "    True\n",
    "  ]\n",
    "}\n",
    "\n",
    "df = pd.DataFrame(d);"
   ]
  },
  {
   "cell_type": "code",
   "execution_count": 4,
   "metadata": {},
   "outputs": [
    {
     "data": {
      "text/html": [
       "<div>\n",
       "<style scoped>\n",
       "    .dataframe tbody tr th:only-of-type {\n",
       "        vertical-align: middle;\n",
       "    }\n",
       "\n",
       "    .dataframe tbody tr th {\n",
       "        vertical-align: top;\n",
       "    }\n",
       "\n",
       "    .dataframe thead th {\n",
       "        text-align: right;\n",
       "    }\n",
       "</style>\n",
       "<table border=\"1\" class=\"dataframe\">\n",
       "  <thead>\n",
       "    <tr style=\"text-align: right;\">\n",
       "      <th></th>\n",
       "      <th>PROPS</th>\n",
       "      <th>goldTag</th>\n",
       "    </tr>\n",
       "  </thead>\n",
       "  <tbody>\n",
       "    <tr>\n",
       "      <th>0</th>\n",
       "      <td>Hello world!</td>\n",
       "      <td>False</td>\n",
       "    </tr>\n",
       "    <tr>\n",
       "      <th>1</th>\n",
       "      <td>p0 is an atom.</td>\n",
       "      <td>False</td>\n",
       "    </tr>\n",
       "    <tr>\n",
       "      <th>2</th>\n",
       "      <td>p0p5p9p9p12</td>\n",
       "      <td>False</td>\n",
       "    </tr>\n",
       "    <tr>\n",
       "      <th>3</th>\n",
       "      <td>((((p0↔(¬p13))))))</td>\n",
       "      <td>False</td>\n",
       "    </tr>\n",
       "    <tr>\n",
       "      <th>4</th>\n",
       "      <td>(⊥)</td>\n",
       "      <td>False</td>\n",
       "    </tr>\n",
       "    <tr>\n",
       "      <th>5</th>\n",
       "      <td>(p0)</td>\n",
       "      <td>False</td>\n",
       "    </tr>\n",
       "    <tr>\n",
       "      <th>6</th>\n",
       "      <td>(p0↔⊥)</td>\n",
       "      <td>True</td>\n",
       "    </tr>\n",
       "    <tr>\n",
       "      <th>7</th>\n",
       "      <td>(p0↔⊥)∨(p0↔⊥)</td>\n",
       "      <td>False</td>\n",
       "    </tr>\n",
       "    <tr>\n",
       "      <th>8</th>\n",
       "      <td>((p0↔⊥)∨(p0↔⊥))</td>\n",
       "      <td>True</td>\n",
       "    </tr>\n",
       "    <tr>\n",
       "      <th>9</th>\n",
       "      <td>p0</td>\n",
       "      <td>True</td>\n",
       "    </tr>\n",
       "    <tr>\n",
       "      <th>10</th>\n",
       "      <td>(¬p0)</td>\n",
       "      <td>True</td>\n",
       "    </tr>\n",
       "    <tr>\n",
       "      <th>11</th>\n",
       "      <td>(p0↔p40)</td>\n",
       "      <td>True</td>\n",
       "    </tr>\n",
       "    <tr>\n",
       "      <th>12</th>\n",
       "      <td>(¬(p0↔p40))</td>\n",
       "      <td>True</td>\n",
       "    </tr>\n",
       "    <tr>\n",
       "      <th>13</th>\n",
       "      <td>((¬(p0↔p40))∨(p1100∧⊥))</td>\n",
       "      <td>True</td>\n",
       "    </tr>\n",
       "    <tr>\n",
       "      <th>14</th>\n",
       "      <td>⊥⊥</td>\n",
       "      <td>False</td>\n",
       "    </tr>\n",
       "    <tr>\n",
       "      <th>15</th>\n",
       "      <td>((((p0→p1)→p2)→p0)→p15)</td>\n",
       "      <td>True</td>\n",
       "    </tr>\n",
       "    <tr>\n",
       "      <th>16</th>\n",
       "      <td>(¬(¬(¬((((p0→p1)→p2)→p0)→p15))))</td>\n",
       "      <td>True</td>\n",
       "    </tr>\n",
       "    <tr>\n",
       "      <th>17</th>\n",
       "      <td>((¬(¬(¬((((p0→p1)→p2)→p0)→p15))))∧(¬(¬(¬((((p0...</td>\n",
       "      <td>True</td>\n",
       "    </tr>\n",
       "    <tr>\n",
       "      <th>18</th>\n",
       "      <td>(((¬(¬(¬((((p0→p1)→p2)→p0)→p15))))∧(¬(¬(¬((((p...</td>\n",
       "      <td>True</td>\n",
       "    </tr>\n",
       "    <tr>\n",
       "      <th>19</th>\n",
       "      <td>((((¬(¬(¬((((p0→p1)→p2)→p0)→p15))))∧(¬(¬(¬((((...</td>\n",
       "      <td>True</td>\n",
       "    </tr>\n",
       "    <tr>\n",
       "      <th>20</th>\n",
       "      <td>(((((¬(¬(¬((((p0→p1)→p2)→p0)→p15))))∧(¬(¬(¬(((...</td>\n",
       "      <td>True</td>\n",
       "    </tr>\n",
       "    <tr>\n",
       "      <th>21</th>\n",
       "      <td>((((¬(¬(¬((((p0→p1)→p2)→p0)→p15))))∧(¬(¬(¬((((...</td>\n",
       "      <td>False</td>\n",
       "    </tr>\n",
       "    <tr>\n",
       "      <th>22</th>\n",
       "      <td>(((p0→p1)∧(p2→p3))∨(¬p1∧¬p2))</td>\n",
       "      <td>False</td>\n",
       "    </tr>\n",
       "    <tr>\n",
       "      <th>23</th>\n",
       "      <td>(((p0→p1)∧(p1→p2)∨(¬p0∧¬p1))</td>\n",
       "      <td>False</td>\n",
       "    </tr>\n",
       "    <tr>\n",
       "      <th>24</th>\n",
       "      <td>((p0→p1)→(p1p1))p0))</td>\n",
       "      <td>False</td>\n",
       "    </tr>\n",
       "    <tr>\n",
       "      <th>25</th>\n",
       "      <td>(((p0→p1)∧(p2→p3))∨((¬p1)∧(¬p2)))</td>\n",
       "      <td>True</td>\n",
       "    </tr>\n",
       "  </tbody>\n",
       "</table>\n",
       "</div>"
      ],
      "text/plain": [
       "                                                PROPS  goldTag\n",
       "0                                        Hello world!    False\n",
       "1                                      p0 is an atom.    False\n",
       "2                                         p0p5p9p9p12    False\n",
       "3                                  ((((p0↔(¬p13))))))    False\n",
       "4                                                 (⊥)    False\n",
       "5                                                (p0)    False\n",
       "6                                              (p0↔⊥)     True\n",
       "7                                       (p0↔⊥)∨(p0↔⊥)    False\n",
       "8                                     ((p0↔⊥)∨(p0↔⊥))     True\n",
       "9                                                  p0     True\n",
       "10                                              (¬p0)     True\n",
       "11                                           (p0↔p40)     True\n",
       "12                                        (¬(p0↔p40))     True\n",
       "13                            ((¬(p0↔p40))∨(p1100∧⊥))     True\n",
       "14                                                 ⊥⊥    False\n",
       "15                            ((((p0→p1)→p2)→p0)→p15)     True\n",
       "16                   (¬(¬(¬((((p0→p1)→p2)→p0)→p15))))     True\n",
       "17  ((¬(¬(¬((((p0→p1)→p2)→p0)→p15))))∧(¬(¬(¬((((p0...     True\n",
       "18  (((¬(¬(¬((((p0→p1)→p2)→p0)→p15))))∧(¬(¬(¬((((p...     True\n",
       "19  ((((¬(¬(¬((((p0→p1)→p2)→p0)→p15))))∧(¬(¬(¬((((...     True\n",
       "20  (((((¬(¬(¬((((p0→p1)→p2)→p0)→p15))))∧(¬(¬(¬(((...     True\n",
       "21  ((((¬(¬(¬((((p0→p1)→p2)→p0)→p15))))∧(¬(¬(¬((((...    False\n",
       "22                      (((p0→p1)∧(p2→p3))∨(¬p1∧¬p2))    False\n",
       "23                       (((p0→p1)∧(p1→p2)∨(¬p0∧¬p1))    False\n",
       "24                               ((p0→p1)→(p1p1))p0))    False\n",
       "25                  (((p0→p1)∧(p2→p3))∨((¬p1)∧(¬p2)))     True"
      ]
     },
     "execution_count": 4,
     "metadata": {},
     "output_type": "execute_result"
    }
   ],
   "source": [
    "df"
   ]
  },
  {
   "cell_type": "code",
   "execution_count": null,
   "metadata": {},
   "outputs": [],
   "source": [
    "def checkProp(phi):\n",
    "    #se phi só tem símbolos do alfabeto de PROP proseguir\n",
    "    #crear fila de espera\n",
    "    #mientras a fila de espera tenha textos a ser evaluados fazer:\n",
    "    #    obter texto psi candidato a ser proposição\n",
    "    #    test1 psi é atomico ou falsum proseguir\n",
    "    #    test2 se psi e uma negação evaluar agregar à fila de espera o texto que esta sendo negado\n",
    "    #    text3 psi e uma proposição com conetiva central binaria\n",
    "    #        encontrar a conetiva central, evaluar se ha igual cantidade de parênteses à esquerda e dereita\n",
    "    #        agregar os textos candidatos a proposição que estão à esquerda e dereita à fila de espera\n",
    "    #    se nenhum destes tests foram validados então psi não é proposição"
   ]
  },
  {
   "cell_type": "code",
   "execution_count": null,
   "metadata": {},
   "outputs": [],
   "source": [
    "df['isProp'] = df['PROPS'].apply(checkProp);"
   ]
  },
  {
   "cell_type": "code",
   "execution_count": null,
   "metadata": {},
   "outputs": [],
   "source": [
    "df"
   ]
  },
  {
   "cell_type": "code",
   "execution_count": 5,
   "metadata": {},
   "outputs": [],
   "source": [
    "from sklearn.metrics import f1_score"
   ]
  },
  {
   "cell_type": "code",
   "execution_count": null,
   "metadata": {},
   "outputs": [],
   "source": [
    "f1_score(df['goldTag'], df['isProp'])"
   ]
  },
  {
   "cell_type": "markdown",
   "metadata": {},
   "source": [
    "Estrutura da árvore\n",
    "\n",
    "(1) $T(\\phi) = \\bullet \\phi$\n",
    "\n",
    "(2) $T((\\phi \\square \\psi)) = \\bullet \\square$               \n",
    "$\\ \\ \\ \\ \\ \\ \\ \\ \\ \\ \\ \\ \\ \\ \\bullet T(\\phi) \\ \\ \\bullet T(\\psi)$\n",
    "\n",
    "$\\square = \\land, \\lor, \\rightarrow, \\leftrightarrow$\n",
    "\n",
    "(3) $T((\\neg \\phi)) = \\bullet \\neg$               \n",
    "$\\ \\ \\ \\ \\ \\ \\ \\ \\ \\ \\ \\ \\ \\ \\ \\ \\bullet T(\\phi)$\n",
    "\n"
   ]
  },
  {
   "cell_type": "markdown",
   "metadata": {},
   "source": [
    "Exemplo da árvore associada a uma proposição.\n",
    "\n",
    "$(p_0 \\leftrightarrow (p_1 \\land p_0))$\n",
    "\n",
    "$T((p_0 \\leftrightarrow (p_1 \\land p_0))) = \\bullet \\leftrightarrow$               \n",
    "\n",
    "$\\ \\ \\ \\ \\ \\ \\ \\ \\ \\ \\ \\ \\ \\ \\ \\ \\ \\ \\ \\ \\ \\ \\ \\ \\  \\ \\ \\ \\bullet p_0 \\ \\ \\ \\ \\ \\ \\bullet \\land$\n",
    "\n",
    "$\\ \\ \\ \\ \\ \\ \\ \\ \\ \\ \\ \\ \\ \\ \\ \\ \\ \\ \\ \\ \\ \\ \\ \\ \\ \\ \\ \\ \\ \\ \\ \\ \\ \\ \\  \\bullet p_1 \\ \\ \\ \\bullet p_0$\n"
   ]
  },
  {
   "cell_type": "code",
   "execution_count": 1,
   "metadata": {},
   "outputs": [],
   "source": [
    "# -*- coding: utf-8 -*-\n",
    "import re"
   ]
  },
  {
   "cell_type": "code",
   "execution_count": 2,
   "metadata": {},
   "outputs": [],
   "source": [
    "binConnectives = '↔|→|∨|∧';\n",
    "unConnective   = '¬';\n",
    "atom           = 'p\\d+';\n",
    "falsum         = '⊥';\n",
    "\n",
    "atomicMatch  = '^%s$'%(atom);\n",
    "falsumMatch  = '^%s$'%(falsum);\n",
    "binConnMatch = '^\\((\\(.+?\\)|p\\d+|⊥)(%s)(\\(.+?\\)|p\\d+|⊥)\\)$'%(binConnectives);\n",
    "unConnMatch  = '^\\((%s)(\\(.+?\\)|p\\d+|⊥)\\)$'%(unConnective);\n",
    "\n",
    "class Tree:\n",
    "    def __init__(self, root, left=None, right=None):\n",
    "        self.root  = root;\n",
    "        self.left  = left;\n",
    "        self.right = right;\n",
    "    def printTree(self, tab=''):\n",
    "        print('%s%s \\n'%(tab, self.root));\n",
    "        if self.left:\n",
    "            self.left.printTree(tab = tab + '  ');\n",
    "        if self.right:\n",
    "            self.right.printTree(tab = tab + '   ');\n",
    "\n",
    "            \n",
    "def parseTree(phi):\n",
    "    if re.match(atomicMatch, phi) or re.match(falsumMatch, phi):\n",
    "        return Tree(phi);\n",
    "    elif re.match(binConnMatch, phi):\n",
    "        groups = re.match(binConnMatch, phi);\n",
    "        return Tree(groups.group(2), left = parseTree(groups.group(1)), right = parseTree(groups.group(3)));\n",
    "    elif re.match(unConnMatch, phi):\n",
    "        groups = re.match(unConnMatch, phi);\n",
    "        return Tree(groups.group(1), left = parseTree(groups.group(2)));\n",
    "\n",
    "def checkProp(phi):\n",
    "    queue = [];\n",
    "    queue.insert(0,phi);\n",
    "    while(queue):\n",
    "        psi = queue.pop(0);\n",
    "        if re.match(atomicMatch, psi) or re.match(falsumMatch, psi):\n",
    "            continue;\n",
    "        elif re.match(binConnMatch, psi):\n",
    "            groups = re.match(binConnMatch, psi);\n",
    "            queue.insert(0, groups.group(1));\n",
    "            queue.insert(0, groups.group(3));\n",
    "        elif re.match(unConnMatch, psi):\n",
    "            groups = re.match(unConnMatch, psi);\n",
    "            queue.insert(0, groups.group(2));\n",
    "        else:\n",
    "            return False;\n",
    "    return True;\n",
    "            "
   ]
  },
  {
   "cell_type": "code",
   "execution_count": null,
   "metadata": {},
   "outputs": [],
   "source": [
    "\\(.+?\\)(%s)\\(.+?\\)\n",
    "( \\("
   ]
  },
  {
   "cell_type": "code",
   "execution_count": 3,
   "metadata": {},
   "outputs": [],
   "source": [
    "stringTree1 = '(p0↔(p1∧p0))'; \n",
    "stringTree2 = '(¬((p1∧p0)↔(p1∧p0)))';\n",
    "stringTree3 = '((p1∧p0)↔((p1∧p0)→(¬p3)))';\n",
    "stringTree4 = '(p0)';\n",
    "stringTree5 = '((⊥';\n",
    "\n"
   ]
  },
  {
   "cell_type": "code",
   "execution_count": 4,
   "metadata": {},
   "outputs": [
    {
     "name": "stdout",
     "output_type": "stream",
     "text": [
      "First tree\n",
      "↔ \n",
      "\n",
      "  p0 \n",
      "\n",
      "   ∧ \n",
      "\n",
      "     p1 \n",
      "\n",
      "      p0 \n",
      "\n"
     ]
    }
   ],
   "source": [
    "print('First tree');\n",
    "if checkProp(stringTree1):\n",
    "    t = parseTree(stringTree1);\n",
    "    t.printTree();"
   ]
  },
  {
   "cell_type": "code",
   "execution_count": 5,
   "metadata": {},
   "outputs": [
    {
     "name": "stdout",
     "output_type": "stream",
     "text": [
      "Second tree\n",
      "¬ \n",
      "\n",
      "  ↔ \n",
      "\n",
      "    ∧ \n",
      "\n",
      "      p1 \n",
      "\n",
      "       p0 \n",
      "\n",
      "     ∧ \n",
      "\n",
      "       p1 \n",
      "\n",
      "        p0 \n",
      "\n"
     ]
    }
   ],
   "source": [
    "print('Second tree');\n",
    "if checkProp(stringTree2):\n",
    "    t = parseTree(stringTree2);\n",
    "    t.printTree();"
   ]
  },
  {
   "cell_type": "code",
   "execution_count": 6,
   "metadata": {},
   "outputs": [
    {
     "name": "stdout",
     "output_type": "stream",
     "text": [
      "Third tree\n",
      "↔ \n",
      "\n",
      "  ∧ \n",
      "\n",
      "    p1 \n",
      "\n",
      "     p0 \n",
      "\n",
      "   → \n",
      "\n",
      "     ∧ \n",
      "\n",
      "       p1 \n",
      "\n",
      "        p0 \n",
      "\n",
      "      ¬ \n",
      "\n",
      "        p3 \n",
      "\n"
     ]
    }
   ],
   "source": [
    "print('Third tree');\n",
    "if checkProp(stringTree3):\n",
    "    t = parseTree(stringTree3);\n",
    "    t.printTree();"
   ]
  },
  {
   "cell_type": "code",
   "execution_count": 7,
   "metadata": {},
   "outputs": [
    {
     "name": "stdout",
     "output_type": "stream",
     "text": [
      "Fourth tree\n"
     ]
    }
   ],
   "source": [
    "print('Fourth tree');\n",
    "if checkProp(stringTree4):\n",
    "    t = parseTree(stringTree4);\n",
    "    t.printTree();"
   ]
  },
  {
   "cell_type": "code",
   "execution_count": 8,
   "metadata": {},
   "outputs": [
    {
     "name": "stdout",
     "output_type": "stream",
     "text": [
      "Fifth tree\n"
     ]
    }
   ],
   "source": [
    "print('Fifth tree');\n",
    "if checkProp(stringTree5):\n",
    "    t = parseTree(stringTree5);\n",
    "    t.printTree();"
   ]
  },
  {
   "cell_type": "code",
   "execution_count": null,
   "metadata": {},
   "outputs": [],
   "source": []
  }
 ],
 "metadata": {
  "kernelspec": {
   "display_name": "Python 3",
   "language": "python",
   "name": "python3"
  },
  "language_info": {
   "codemirror_mode": {
    "name": "ipython",
    "version": 3
   },
   "file_extension": ".py",
   "mimetype": "text/x-python",
   "name": "python",
   "nbconvert_exporter": "python",
   "pygments_lexer": "ipython3",
   "version": "3.7.4"
  }
 },
 "nbformat": 4,
 "nbformat_minor": 4
}
